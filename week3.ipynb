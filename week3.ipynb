{
 "cells": [
  {
   "cell_type": "code",
   "execution_count": 2,
   "id": "4d3c6e94-2c32-4852-bf82-de63132be0b3",
   "metadata": {},
   "outputs": [
    {
     "name": "stdout",
     "output_type": "stream",
     "text": [
      "Connected\n"
     ]
    }
   ],
   "source": [
    "# Task1\n",
    "import mysql.connector as connector\n",
    "\n",
    "# create connection\n",
    "connection=connector.connect(user=\"root\",password=\"********\", db = \"littlelemondb\")\n",
    "print(\"Connected\")\n",
    "\n",
    "# create cursor\n",
    "cursor = connection.cursor()"
   ]
  },
  {
   "cell_type": "code",
   "execution_count": 3,
   "id": "0b601928-dc8a-41f6-a623-fe8634f3cc2c",
   "metadata": {},
   "outputs": [
    {
     "name": "stdout",
     "output_type": "stream",
     "text": [
      "[('bookings',), ('customers',), ('menu',), ('orderdeliverystatus',), ('orders',), ('staff',)]\n"
     ]
    }
   ],
   "source": [
    "# Task2\n",
    "show_tables_query = \"SHOW tables\" \n",
    "cursor.execute(show_tables_query)\n",
    "\n",
    "results=cursor.fetchall()\n",
    "print(results)"
   ]
  },
  {
   "cell_type": "code",
   "execution_count": null,
   "id": "4081dded-cc69-4efb-aa92-dc46ed0486ff",
   "metadata": {},
   "outputs": [],
   "source": [
    "# Task3\n",
    "\n",
    "select_stmt=\"\"\"\n",
    "select c.Name, c.ContactNumber from Orders o inner join Customers c on o.CustomerID=c.CustomerID where o.TotalCost>60;\n",
    "\"\"\"\n",
    "\n",
    "cursor.execute(select_stmt)\n",
    "results=cursor.fetchall()\n",
    "print(\"Column name: \", cursor.column_names)\n",
    "for row in results:\n",
    "    print(row)"
   ]
  },
  {
   "cell_type": "code",
   "execution_count": null,
   "id": "4e585232-9421-4a8c-9f9e-f6e10ced2538",
   "metadata": {},
   "outputs": [],
   "source": []
  }
 ],
 "metadata": {
  "kernelspec": {
   "display_name": "Python 3 (ipykernel)",
   "language": "python",
   "name": "python3"
  },
  "language_info": {
   "codemirror_mode": {
    "name": "ipython",
    "version": 3
   },
   "file_extension": ".py",
   "mimetype": "text/x-python",
   "name": "python",
   "nbconvert_exporter": "python",
   "pygments_lexer": "ipython3",
   "version": "3.11.4"
  }
 },
 "nbformat": 4,
 "nbformat_minor": 5
}
